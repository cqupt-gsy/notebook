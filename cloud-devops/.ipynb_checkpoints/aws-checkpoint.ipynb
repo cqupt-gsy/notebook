{
 "cells": [
  {
   "cell_type": "markdown",
   "metadata": {},
   "source": [
    "# Compute-EC2\n",
    "* https://docs.aws.amazon.com/ec2/index.html\n",
    "* Amazon EC2 provides the following features:\n",
    "    * Virtual computing environments, <b>known as instances</b>\n",
    "    * Preconfigured templates for your instances, <b>known as Amazon Machine Images (AMIs)</b>, that package the bits you need for your server (including the operating system and additional software)\n",
    "    * Various configurations of CPU, memory, storage, and networking capacity for your instances, <b>known as instance types</b>\n",
    "    * Storage volumes for temporary data that's deleted when you stop or terminate your instance, <b>known as instance store volumes</b>\n",
    "    * Persistent storage volumes for your data using Amazon Elastic Block Store (Amazon EBS), <b>known as Amazon EBS volumes</b>\n",
    "    * Multiple physical locations for your resources, such as instances and Amazon EBS volumes, <b>known as Regions and Availability Zones</b>\n",
    "    * Static IPv4 addresses for dynamic cloud computing, <b>known as Elastic IP addresses</b>\n",
    "    * Virtual networks you can create that are logically isolated from the rest of the AWS cloud, and that you can optionally connect to your own network, <b>known as virtual private clouds (VPCs)</b>\n",
    "* <b>Instances</b>: An instance is a virtual server in the cloud. Its configuration at launch is a copy of the AMI that you specified when you launched the instance. An <b>instance type</b> essentially determines the hardware of the host computer used for your instance. Each instance type offers different compute and memory capabilities. https://docs.aws.amazon.com/AWSEC2/latest/UserGuide/instance-types.html\n",
    "* <b>AMI</b>: Amazon Web Services (AWS) publishes many Amazon Machine Images (AMIs) that contain common software configurations for public use(similar to docker image). All AMIs are categorized as either backed by Amazon EBS, which means that the root device for an instance launched from the AMI is an Amazon EBS volume, or backed by instance store, which means that the root device for an instance launched from the AMI is an instance store volume created from a template stored in Amazon S3.\n",
    "    * Creating an Amazon EBS-Backed Linux AMI: https://docs.aws.amazon.com/AWSEC2/latest/UserGuide/creating-an-ami-ebs.html\n",
    "    * Creating an Instance Store-Backed Linux AMI: https://docs.aws.amazon.com/AWSEC2/latest/UserGuide/creating-an-ami-instance-store.html\n",
    "* <b>Regions</b>: Region is a separate geographic area. Each Region has multiple, isolated locations known as Availability Zones. \n",
    "* <b>Availability Zones</b>: Each Region is completely independent. Each Availability Zone is isolated, but the Availability Zones in a Region are connected through low-latency links.\n",
    "* <b>Amazon EC2 Root Device Volume</b>: 这两类Volume相当于在AMI中安装的基础软件打包做成Snapshot，存储在不同地方\n",
    "    * Instance Store-backed Instances: Instances that use instance stores for the root device automatically have one or more instance store volumes available, with one volume serving as the root device volume. When an instance is launched, the image that is used to boot the instance is copied to the root volume. \n",
    "    * Amazon EBS-backed Instances: Instances that use Amazon EBS for the root device automatically have an Amazon EBS volume attached. When you launch an Amazon EBS-backed instance, we create an Amazon EBS volume for each Amazon EBS snapshot referenced by the AMI you use. \n",
    "* <b> Virtual Private Cloud (VPC)</b>: Amazon VPC enables you to launch AWS resources into a virtual network that you've defined, known as a virtual private cloud (VPC). \n",
    "* <b>Virtualization Types</b>: HVM AMIs and PV AMIs"
   ]
  },
  {
   "cell_type": "markdown",
   "metadata": {},
   "source": [
    "****"
   ]
  },
  {
   "cell_type": "markdown",
   "metadata": {},
   "source": [
    "# Compute-Lambda\n",
    "* <b>AWS Lambda</b>: AWS Lambda is a compute service that lets you run code without provisioning or managing servers. AWS Lambda executes your code only when needed and scales automatically, from a few requests per day to thousands per second. \n",
    "    * https://docs.aws.amazon.com/lambda/index.html\n",
    "    * https://aws.amazon.com/lambda/\n",
    "    * Building AWS Lambda Application: \n",
    "        * Programming Model: https://docs.aws.amazon.com/lambda/latest/dg/programming-model-v2.html\n",
    "        * Configuring AWS Lambda Functions: https://docs.aws.amazon.com/lambda/latest/dg/lambda-configuration.html\n",
    "        * AWS Lambda with Other Services: https://docs.aws.amazon.com/lambda/latest/dg/lambda-services.html\n",
    "        * Building Lambda Functions with Java: https://docs.aws.amazon.com/lambda/latest/dg/java-programming-model.html\n",
    "        * Monitoring Lambda Applications: https://docs.aws.amazon.com/lambda/latest/dg/troubleshooting.html\n",
    "    * Function – A script or program that runs in AWS Lambda. Lambda passes invocation events to your function. The function processes an event and returns a response. \n",
    "        * Handler – Handler is the function AWS Lambda calls to start execution of your Lambda function. You identify the handler when you create your Lambda function. When a Lambda function is invoked, AWS Lambda starts executing your code by calling the handler function. AWS Lambda passes any event data to this handler as the first parameter.\n",
    "        * Context – AWS Lambda also passes a  context  object to the handler function, as the second parameter. Via this context object your code can interact with AWS Lambda.\n",
    "        * Logging – Your Lambda function can contain logging statements. AWS Lambda writes these logs to CloudWatch Logs. \n",
    "        * Exceptions – Your Lambda function needs to communicate the result of the function execution to AWS Lambda. Depending on the language you author your Lambda function code, there are different ways to end a request successfully or to notify AWS Lambda an error occurred during execution.\n",
    "        * Concurrency – When your function is invoked more quickly than a single instance of your function can process events, Lambda scales by running additional instances. Each instance of your function handles only one request at a time, so you don't need to worry about synchronizing threads or processes.\n",
    "    * Runtimes – Lambda runtimes allow functions in different languages to run in the same base execution environment. You configure your function to use a runtime that matches your programming language. \n",
    "    * Layers – Lambda layers are a distribution mechanism for libraries, custom runtimes, and other function dependencies. Layers let you manage your in-development function code independently from the unchanging code and resources that it uses. \n",
    "    * Event source – An AWS service, such as Amazon SNS, or a custom service, that triggers your function and executes its logic. \n",
    "    * Downstream resources – An AWS service, such as DynamoDB tables or Amazon S3 buckets, that your Lambda function calls once it is triggered.\n",
    "    * Log streams – While Lambda automatically monitors your function invocations and reports metrics to CloudWatch,\n",
    "    * AWS SAM – A model to define serverless applications. AWS SAM is natively supported by AWS CloudFormation and defines simplified syntax for expressing serverless resources. \n",
    "* <b>AWS Serverless Application Model (AWS SAM)</b>: The AWS Serverless Application Model (AWS SAM) is an open-source framework that you can use to build serverless applications on AWS. A serverless application is a combination of Lambda functions, event sources, and other resources that work together to perform tasks. Note that a serverless application is more than just a Lambda function—it can include additional resources such as APIs, databases, and event source mappings. \n",
    "    * https://docs.aws.amazon.com/serverless-application-model/index.html\n",
    "    * https://aws.amazon.com/serverless/\n",
    "    * AWS SAM template specification. You use this specification to define your serverless application. It provides you with a simple and clean syntax to describe the functions, APIs, permissions, configurations, and events that make up a serverless application.\n",
    "    * AWS SAM command line interface (AWS SAM CLI). You use this tool to build serverless applications that are defined by AWS SAM templates.\n",
    "* <b>AWS Serverless Application Repository</b>: The AWS Serverless Application Repository makes it easy for developers and enterprises to quickly find, deploy, and publish serverless applications in the AWS Cloud. To publish a serverless application (or app), you can use the <i>AWS Management Console, the AWS SAM command line interface (AWS SAM CLI), or AWS SDKs</i> to upload your code. Along with your code, you upload a simple manifest file, also known as an AWS Serverless Application Model (AWS SAM) template.\n",
    "    * https://docs.aws.amazon.com/serverlessrepo/index.html\n",
    "    * https://aws.amazon.com/serverless/serverlessrepo/\n",
    "    * Publishing Applications: Configure and upload applications to make them available to other developers, and publish new versions of applications. When you publish a serverless application to the AWS Serverless Application Repository, you make it available for others to find and deploy.\n",
    "    * Consuming Applications: Browse for applications and view information about them, including source code and readme files. Also install, configure, and deploy applications of your choosing."
   ]
  },
  {
   "cell_type": "markdown",
   "metadata": {},
   "source": [
    "****"
   ]
  },
  {
   "cell_type": "markdown",
   "metadata": {},
   "source": [
    "# Networking\n",
    "* <b>Amazon VPC(Virtual Private Clouds)</b>: Amazon Virtual Private Cloud (Amazon VPC) enables you to launch AWS resources into a virtual network that you've defined. This virtual network closely resembles a traditional network that you'd operate in your own data center, with the benefits of using the scalable infrastructure of AWS. https://docs.aws.amazon.com/vpc/index.html\n",
    "    * Private IPv4 Addresses and Internal DNS Hostnames: A private IPv4 address is an IP address that's not reachable over the Internet. You can use private IPv4 addresses for communication between instances in the same VPC. \n",
    "        * <i>When you launch an instance, we allocate a primary private IPv4 address for the instance. Each instance is also given an internal DNS hostname that resolves to the primary private IPv4 address; for example, ip-10-251-50-12.ec2.internal. You can use the internal DNS hostname for communication between instances in the same network, but we can't resolve the DNS hostname outside the network that the instance is in.</i>\n",
    "    * Public IPv4 Addresses and External DNS Hostnames: A public IP address is an IPv4 address that's reachable from the Internet. You can use public addresses for communication between your instances and the Internet.\n",
    "        * <i>Each instance that receives a public IP address is also given an external DNS hostname; for example, ec2-203-0-113-25.compute-1.amazonaws.com. We resolve an external DNS hostname to the public IP address of the instance outside the network of the instance, and to the private IPv4 address of the instance from within the network of the instance. The public IP address is mapped to the primary private IP address through network address translation (NAT).</i>\n",
    "        * <i>A public IP address is assigned to your instance from Amazon's pool of public IPv4 addresses, and is not associated with your AWS account. When a public IP address is disassociated from your instance, it is released back into the public IPv4 address pool, and you cannot reuse it.</i>\n",
    "    * Elastic IP Addresses: An Elastic IP address is a static IPv4 address designed for dynamic cloud computing. An Elastic IP address is a public IPv4 address that you can allocate to your account. You can associate it to and from instances as you require, and it's allocated to your account until you choose to release it.\n",
    "        * <i>You can allocate an Elastic IP address from Amazon's pool of public IPv4 addresses, or from a custom IP address pool that you have brought to your AWS account.</i>\n",
    "* <b>AWS Site-to-Site VPN</b>: By default, instances that you launch into an Amazon VPC can't communicate with your own (remote) network. You can enable access to your remote network from your VPC by attaching a virtual private gateway to the VPC, creating a custom route table, updating your security group rules, and creating an AWS Site-to-Site VPN (Site-to-Site VPN) connection. https://docs.aws.amazon.com/vpn/index.html\n",
    "    * Virtual Private Gateway: A virtual private gateway is the VPN concentrator on the Amazon side of the Site-to-Site VPN connection. You create a virtual private gateway and attach it to the VPC from which you want to create the Site-to-Site VPN connection.\n",
    "    * Customer Gateway: A customer gateway is a physical device or software application on your side of the Site-to-Site VPN connection. To create a Site-to-Site VPN connection, you must create a customer gateway resource in AWS, which provides information to AWS about your customer gateway device.\n",
    "* <b>Amazon API Gateway</b>: Amazon API Gateway is an AWS service for creating, publishing, maintaining, monitoring, and securing REST and WebSocket APIs at any scale. API developers can create APIs that access AWS or other web services as well as data stored in the AWS Cloud. As an API Gateway API developer, you can create APIs for use in your own client applications (apps). Or you can make your APIs available to third-party app developers. API Gateway is an AWS service that supports: https://docs.aws.amazon.com/apigateway/index.html\n",
    "    * API Gateway REST API: Creating, deploying, and managing a REST application programming interface (API) to expose backend HTTP endpoints, AWS Lambda functions, or other AWS services.\n",
    "        * A collection of HTTP resources and methods that are integrated with backend HTTP endpoints, Lambda functions, or other AWS services.\n",
    "    * API Gateway WebSocket API: Creating, deploying, and managing a WebSocket API to expose AWS Lambda functions or other AWS services.\n",
    "        * A collection of WebSocket routes and route keys that are integrated with backend HTTP endpoints, Lambda functions, or other AWS services. \n",
    "    * Invoking exposed API methods through the frontend HTTP and WebSocket endpoints.\n",
    "* <b>AWS App Mesh</b>: AWS App Mesh is a service mesh based on the Envoy proxy that makes it easy to monitor and control microservices. App Mesh standardizes how your microservices communicate, giving you end-to-end visibility and helping to ensure high-availability for your applications. https://docs.aws.amazon.com/app-mesh/index.html\n",
    "* <b>Amazon CloudFront</b>: Amazon CloudFront is a web service that speeds up distribution of your static and dynamic web content. CloudFront delivers your content through a worldwide network of data centers called edge locations. When a user requests content that you're serving with CloudFront, the user is routed to the edge location that provides the lowest latency (time delay), so that content is delivered with the best possible performance. https://docs.aws.amazon.com/cloudfront/index.html\n",
    "    * If the content is already in the edge location with the lowest latency, CloudFront delivers it immediately.\n",
    "    * If the content is not in that edge location, CloudFront retrieves it from an origin that you've defined—such as an Amazon S3 bucket that you have identified as the source for the definitive version of your content.\n",
    "    * https://docs.aws.amazon.com/AmazonCloudFront/latest/DeveloperGuide/HowCloudFrontWorks.html\n",
    "* <b>Elastic Load Balancing</b>: Elastic Load Balancing distributes incoming application or network traffic across multiple targets, such as Amazon EC2 instances, containers, and IP addresses, in multiple Availability Zones. Elastic Load Balancing scales your load balancer as traffic to your application changes over time, and can scale to the vast majority of workloads automatically. https://docs.aws.amazon.com/elasticloadbalancing/index.html\n",
    "    * Difference between different load balancers: https://docs.aws.amazon.com/elasticloadbalancing/latest/userguide/how-elastic-load-balancing-works.html\n",
    "        * Application Load Balancers: An Application Load Balancer functions at the application layer, the seventh layer of the Open Systems Interconnection (OSI) model. After the load balancer receives a request, it evaluates the listener rules in priority order to determine which rule to apply, and then selects a target from the target group for the rule action. You can configure listener rules to route requests to different target groups based on the content of the application traffic. https://docs.aws.amazon.com/elasticloadbalancing/latest/application/introduction.html\n",
    "        * Network Load Balancers: A Network Load Balancer functions at the fourth layer of the Open Systems Interconnection (OSI) model. It can handle millions of requests per second. After the load balancer receives a connection request, it selects a target from the target group for the default rule. It attempts to open a TCP connection to the selected target on the port specified in the listener configuration. https://docs.aws.amazon.com/elasticloadbalancing/latest/network/introduction.html\n",
    "        * Classic Load Balancers(Not recommend): A load balancer distributes incoming application traffic across multiple EC2 instances in multiple Availability Zones. This increases the fault tolerance of your applications. Elastic Load Balancing detects unhealthy instances and routes traffic only to healthy instances. https://docs.aws.amazon.com/elasticloadbalancing/latest/classic/introduction.html\n"
   ]
  },
  {
   "cell_type": "markdown",
   "metadata": {},
   "source": [
    "****"
   ]
  },
  {
   "cell_type": "markdown",
   "metadata": {},
   "source": [
    "# Storage\n",
    "* https://docs.aws.amazon.com/AWSEC2/latest/UserGuide/Storage.html\n",
    "* <b>Elastic Block Store(EBS)</b>: Amazon EBS provides durable, block-level storage volumes that you can attach to a running instance. An EBS volume behaves like a raw, unformatted, external block device that you can attach to a single instance. The volume persists independently from the running life of an instance. https://docs.aws.amazon.com/AWSEC2/latest/UserGuide/AmazonEBS.html\n",
    "* <b>Instance Store</b>: Many instances can access storage from disks that are physically attached to the host computer. This disk storage is referred to as instance store. Instance store provides temporary block-level storage for instances. \n",
    "* <b>Elastic File System(EFS)</b>: Amazon EFS provides scalable file storage for use with Amazon EC2. You can create an EFS file system and configure your instances to mount the file system. You can use an EFS file system as a common data source for workloads and applications running on multiple instances. https://docs.aws.amazon.com/efs/index.html\n",
    "    * <i>You can mount an Amazon EFS file system in your VPC, through the Network File System versions 4.0 and 4.1 (NFSv4) protocol.</i>\n",
    "* <b>S3 (Simple Storage Service)</b>: Amazon S3  provides access to reliable and inexpensive data storage infrastructure. It is designed to make web-scale computing easier by enabling you to store and retrieve any amount of data, at any time, from within Amazon EC2 or anywhere on the web. https://docs.aws.amazon.com/s3/index.html\n",
    "    * Amazon S3 stores data as objects within buckets. An object consists of a file and optionally any metadata that describes that file. To store an object in Amazon S3, you upload the file you want to store to a bucket. Buckets are the containers for objects. "
   ]
  },
  {
   "cell_type": "markdown",
   "metadata": {},
   "source": [
    "****"
   ]
  },
  {
   "cell_type": "markdown",
   "metadata": {},
   "source": [
    "# Monitoring\n",
    "* <b>AWS CloudTrail</b>: AWS CloudTrail is an AWS service that helps you enable governance, compliance, and operational and risk auditing of your AWS account. Actions taken by a user, role, or an AWS service are recorded as events in CloudTrail. https://docs.aws.amazon.com/cloudtrail/index.html\n",
    "    * CloudTrail events provide a history of both API and non-API account activity made through the AWS Management Console, AWS SDKs, command line tools, and other AWS services. There are two types of events that can be logged in CloudTrail: management events and data events. By default, trails log management events, but not data events.\n",
    "    * <b>Management Events</b>: Management events provide insight into management operations that are performed on resources in your AWS account. \n",
    "    * <b>Data Events</b>: Data events provide insight into the resource operations performed on or in a resource.\n",
    "* <b>Amazon CloudWatch</b>: Amazon CloudWatch monitors your Amazon Web Services (AWS) resources and the applications you run on AWS in real time. You can use CloudWatch to collect and track metrics, which are variables you can measure for your resources and applications. https://docs.aws.amazon.com/cloudwatch/index.html\n",
    "    * Amazon CloudWatch is basically a metrics repository. An AWS service—such as Amazon EC2—puts metrics into the repository, and you retrieve statistics based on those metrics. If you put your own custom metrics into the repository, you can retrieve statistics on these metrics as well.\n",
    "* <b>Amazon CloudWatch Events</b>: Amazon CloudWatch Events delivers a near real-time stream of system events that describe changes in Amazon Web Services (AWS) resources. Using simple rules that you can quickly set up, you can match events and route them to one or more target functions or streams. https://docs.aws.amazon.com/cloudwatch/index.html\n",
    "    * Events: An event indicates a change in your AWS environment. AWS resources can generate events when their state changes. For example, Amazon EC2 generates an event when the state of an EC2 instance changes from pending to running, and Amazon EC2 Auto Scaling generates events when it launches or terminates instances. You can generate custom application-level events and publish them to CloudWatch Events.\n",
    "    * Targets: A target processes events. Targets can include Amazon EC2 instances, AWS Lambda functions, Kinesis streams, Amazon ECS tasks, Step Functions state machines, Amazon SNS topics, Amazon SQS queues, and built-in targets. \n",
    "    * Rules: A rule matches incoming events and routes them to targets for processing. A single rule can route to multiple targets, all of which are processed in parallel.\n",
    "* <b>Amazon CloudWatch Logs (Splunck)</b>: You can use Amazon CloudWatch Logs to monitor, store, and access your log files from Amazon Elastic Compute Cloud (Amazon EC2) instances, AWS CloudTrail, Route 53, and other sources. CloudWatch Logs enables you to centralize the logs from all of your systems, applications, and AWS services that you use, in a single, highly scalable service. You can then easily view them, search them for specific error codes or patterns, filter them based on specific fields, or archive them securely for future analysis. CloudWatch Logs enables you to see all of your logs, regardless of their source, as a single and consistent flow of events ordered by time, and you can query them and sort them based on other dimensions, group them by specific fields, create custom computations with a powerful query language, and visualize log data in dashboards. https://docs.aws.amazon.com/cloudwatch/index.html\n",
    "    * <b>EC2-Monitoring</b>: https://docs.aws.amazon.com/AWSEC2/latest/UserGuide/monitoring_ec2.html\n",
    "        * By default, Amazon EC2 sends metric data to CloudWatch in 5-minute periods. The Amazon EC2 console displays a series of graphs based on the raw data from Amazon CloudWatch. \n",
    "        * <b>Instance Metrics</b>: https://docs.aws.amazon.com/AWSEC2/latest/UserGuide/viewing_metrics_with_cloudwatch.html\n",
    "        * <b>Statistics for Metrics for Instances</b>: https://docs.aws.amazon.com/AWSEC2/latest/UserGuide/monitoring_get_statistics.html\n"
   ]
  },
  {
   "cell_type": "markdown",
   "metadata": {},
   "source": [
    "****"
   ]
  },
  {
   "cell_type": "markdown",
   "metadata": {},
   "source": [
    "# Governance\n",
    "* <b>AWS Auto Scaling</b>: AWS Auto Scaling enables you to configure automatic scaling for the AWS resources that are part of your application in a matter of minutes. The AWS Auto Scaling console provides a single user interface to use the automatic scaling features of multiple AWS services. You can configure automatic scaling for individual resources or for whole applications. https://docs.aws.amazon.com/autoscaling/index.html\n",
    "    * dynamic scaling: Dynamic scaling creates target tracking scaling policies for the resources in your scaling plan. These scaling policies adjust resource capacity in response to live changes in resource utilization. The intention is to provide enough capacity to maintain utilization at the target value specified by the scaling strategy. \n",
    "    * predictive scaling: Predictive scaling uses machine learning to analyze each resource's historical workload and regularly forecasts the future load for the next two days, similar to how weather forecasts works. Using the forecast, it generates scheduled scaling actions to make sure that the resource capacity is available before your application needs it. \n",
    "* <b>AWS CloudFormation</b>: AWS CloudFormation is a service that helps you model and set up your Amazon Web Services resources so that you can spend less time managing those resources and more time focusing on your applications that run in AWS. You create a template that describes all the AWS resources that you want, and AWS CloudFormation takes care of provisioning and configuring those resources for you. You don't need to individually create and configure AWS resources and figure out what's dependent on what; AWS CloudFormation handles all of that. https://docs.aws.amazon.com/cloudformation/index.html\n",
    "    * Templates: An AWS CloudFormation template is a JSON or YAML formatted text file. You can save these files with any extension, such as .json, .yaml, .template, or .txt. AWS CloudFormation uses these templates as blueprints for building your AWS resources. https://docs.aws.amazon.com/AWSCloudFormation/latest/UserGuide/template-reference.html\n",
    "    * Stacks: When you use AWS CloudFormation, you manage related resources as a single unit called a stack. You create, update, and delete a collection of resources by creating, updating, and deleting stacks. All the resources in a stack are defined by the stack's AWS CloudFormation template. Suppose you created a template that includes an Auto Scaling group, Elastic Load Balancing load balancer, and an Amazon Relational Database Service (Amazon RDS) database instance. To create those resources, you create a stack by submitting the template that you created, and AWS CloudFormation provisions all those resources for you. \n",
    "    * Change Sets: If you need to make changes to the running resources in a stack, you update the stack. Before making changes to your resources, you can generate a change set, which is a summary of your proposed changes. Change sets allow you to see how your changes might impact your running resources, especially for critical resources, before implementing them.\n",
    "    * https://docs.aws.amazon.com/AWSCloudFormation/latest/UserGuide/cfn-sample-templates.html\n",
    "* <b>AWS Config</b>: AWS Config provides a detailed view of the configuration of AWS resources in your AWS account. This includes how the resources are related to one another and how they were configured in the past so that you can see how the configurations and relationships change over time. https://docs.aws.amazon.com/config/index.html"
   ]
  },
  {
   "cell_type": "markdown",
   "metadata": {},
   "source": [
    "****"
   ]
  },
  {
   "cell_type": "markdown",
   "metadata": {},
   "source": [
    "# Application service\n",
    "* <b>Amazon CloudSearch</b>: Amazon CloudSearch is a fully managed service in the cloud that makes it easy to set up, manage, and scale a search solution for your website or application. With Amazon CloudSearch you can search large collections of data such as web pages, document files, forum posts, or product information. You can quickly add search capabilities without having to become a search expert or worry about hardware provisioning, setup, and maintenance. As your volume of data and traffic fluctuates, Amazon CloudSearch scales to meet your needs. https://docs.aws.amazon.com/cloudsearch/index.html\n",
    "    * Create and configure a search domain. A search domain includes your searchable data and the search instances that handle your search requests. If you have multiple collections of data that you want to make searchable, you can create multiple search domains.\n",
    "    * Upload the data you want to search to your domain. Amazon CloudSearch indexes your data and deploys the search index to one or more search instances.\n",
    "    * Search your domain. You send a search request to your domain's search endpoint as an HTTP/HTTPS GET request.\n",
    "* <b>Amazon Elasticsearch Service</b>: Amazon Elasticsearch Service (Amazon ES) is a managed service that makes it easy to deploy, operate, and scale Elasticsearch clusters in the AWS Cloud. Elasticsearch is a popular open-source search and analytics engine for use cases such as log analytics, real-time application monitoring, and clickstream analysis. With Amazon ES, you get direct access to the Elasticsearch APIs; existing code and applications work seamlessly with the service. Amazon ES provisions all the resources for your Elasticsearch cluster and launches it. It also automatically detects and replaces failed Elasticsearch nodes, reducing the overhead associated with self-managed infrastructures. You can scale your cluster with a single API call or a few clicks in the console. https://docs.aws.amazon.com/elasticsearch-service/index.html\n",
    "* <b>Amazon MQ</b>: Amazon MQ is a managed message broker service for Apache ActiveMQ that makes it easy to migrate to a message broker in the cloud. A message broker allows software applications and components to communicate using various programming languages, operating systems, and formal messaging protocols. https://docs.aws.amazon.com/amazon-mq/index.html\n",
    "    * Amazon MQ is a managed message broker service that provides compatibility with many popular message brokers. We recommend Amazon MQ for migrating applications from existing message brokers that rely on compatibility with APIs such as JMS or protocols such as AMQP, MQTT, OpenWire, and STOMP.\n",
    "    * <b>Amazon SQS</b> and <b>Amazon SNS</b> are queue and topic services that are highly scalable, simple to use, and don't require you to set up message brokers. We recommend these services for new applications that can benefit from nearly unlimited scalability and simple APIs.\n"
   ]
  }
 ],
 "metadata": {
  "kernelspec": {
   "display_name": "Python 3",
   "language": "python",
   "name": "python3"
  },
  "language_info": {
   "codemirror_mode": {
    "name": "ipython",
    "version": 3
   },
   "file_extension": ".py",
   "mimetype": "text/x-python",
   "name": "python",
   "nbconvert_exporter": "python",
   "pygments_lexer": "ipython3",
   "version": "3.6.3"
  }
 },
 "nbformat": 4,
 "nbformat_minor": 2
}
