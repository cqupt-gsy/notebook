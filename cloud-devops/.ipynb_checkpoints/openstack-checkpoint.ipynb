{
 "cells": [
  {
   "cell_type": "markdown",
   "metadata": {},
   "source": [
    "# 架构以及组件服务\n",
    "* 概念架构图：\n",
    "<img src=\"../images/devops/openstack-conceptual-arch.png\" width=\"800px\">\n",
    "* 逻辑架构图：\n",
    "<img src=\"../images/devops/openstack-arch-logical.png\" width=\"800px\">"
   ]
  },
  {
   "cell_type": "markdown",
   "metadata": {},
   "source": [
    "****"
   ]
  },
  {
   "cell_type": "markdown",
   "metadata": {},
   "source": [
    "# Core Services: \n",
    "\n",
    "### Compute service (Nova): \n",
    "* Nova is the OpenStack project that provides a way to provision compute instances (aka virtual servers). Nova supports creating virtual machines, baremetal servers (through the use of ironic), and has limited support for system containers. Nova runs as a set of daemons on top of existing Linux servers to provide that service. https://docs.openstack.org/nova/stein/index.html\n",
    "\n",
    "****\n",
    "\n",
    "### Networking service (Neutron): \n",
    "* The Networking service, code-named neutron, provides an API that lets you define network connectivity and addressing in the cloud. The Networking service enables operators to leverage different networking technologies to power their cloud networking. The Networking service also provides an API to configure and manage a variety of network services ranging from L3 forwarding and Network Address Translation (NAT) to load balancing, perimeter firewalls, and virtual private networks. https://docs.openstack.org/neutron/stein/index.html\n",
    "    * Networking automation across Neutron service (Tricircle): https://docs.openstack.org/tricircle/stein/index.html\n",
    "\n",
    "****\n",
    "\n",
    "### Block Storage service (Cinder):\n",
    "* The OpenStack Block Storage service (Cinder) adds persistent storage to a virtual machine. Block Storage provides an infrastructure for managing volumes, and interacts with OpenStack Compute to provide volumes for instances. The service also enables management of volume snapshots, and volume types. https://docs.openstack.org/cinder/stein/index.html\n",
    "\n",
    "****\n",
    "\n",
    "### Object Storage service (Swift):\n",
    "* OpenStack Object Storage is a highly available, distributed, eventually consistent object/blob store. You create, modify, and get objects and metadata by using the Object Storage API. https://docs.openstack.org/swift/stein/index.html\n",
    "\n",
    "****\n",
    "\n",
    "### Identity service (Keystone): \n",
    "* The OpenStack Identity service provides a single point of integration for managing authentication, authorization, and a catalog of services. The Identity service is typically the first service a user interacts with. Once authenticated, an end user can use their identity to access other OpenStack services. https://docs.openstack.org/keystone/stein/index.html\n",
    "\n",
    "****\n",
    "\n",
    "### Image service (Glance):\n",
    "* Glance image services include discovering, registering, and retrieving virtual machine (VM) images. Glance has a RESTful API that allows querying of VM image metadata as well as retrieval of the actual image. https://docs.openstack.org/glance/stein/index.html\n",
    "\n",
    "****\n",
    "\n",
    "### Dashboard (Horizon): \n",
    "* Horizon is the canonical implementation of OpenStack’s Dashboard, which provides a web based user interface to OpenStack services including Nova, Swift, Keystone, etc. https://docs.openstack.org/horizon/stein/index.html\n",
    "\n",
    "****\n",
    "\n",
    "### Bare Metal Service(Ironic): \n",
    "* The Bare Metal service is a collection of components that provides support to manage and provision physical machines. https://docs.openstack.org/ironic/stein/index.html\n",
    "\n",
    "****\n",
    "\n",
    "### Data Processing service (Sahara):\n",
    "* The sahara project aims to provide users with a simple means to provision data processing frameworks (such as Apache Hadoop, Apache Spark and Apache Storm) on OpenStack. This is accomplished by specifying configuration parameters such as the framework version, cluster topology, node hardware details and more. https://docs.openstack.org/sahara/stein/index.html\n",
    "\n",
    "****\n",
    "\n",
    "### Database service (Trove): \n",
    "* Trove is Database as a Service for OpenStack. It’s designed to run entirely on OpenStack, with the goal of allowing users to quickly and easily utilize the features of a relational database without the burden of handling complex administrative tasks. Cloud users and database administrators can provision and manage multiple database instances as needed. https://docs.openstack.org/trove/stein/index.html\n",
    "\n",
    "****\n",
    "\n",
    "### Orchestration service (Heat):\n",
    "* The Orchestration service provides a template-based orchestration for describing a cloud application by running OpenStack API calls to generate running cloud applications. The software integrates other core components of OpenStack into a one-file template system. https://docs.openstack.org/heat/stein/index.html\n",
    "\n",
    "**** \n",
    "\n",
    "### Telemetry Data Collection service (Ceilometer):\n",
    "* Ceilometer is a component of the Telemetry project. Its data can be used to provide customer billing, resource tracking, and alarming capabilities across all OpenStack core components.\n",
    "    * Telemetry Alarming services (Aodh): The Alarming service (aodh) project provides a service that enables the ability to trigger actions based on defined rules against metric or event data collected by Ceilometer or Gnocchi. https://docs.openstack.org/aodh/stein/index.html\n",
    "    * Telemetry Event service (Panko): The Panko project is an event storage service that provides the ability to store and querying event data generated by Ceilometer with potentially other sources. https://docs.openstack.org/panko/stein/index.html"
   ]
  },
  {
   "cell_type": "markdown",
   "metadata": {},
   "source": [
    "****"
   ]
  },
  {
   "cell_type": "markdown",
   "metadata": {},
   "source": [
    "### Optional Services: \n",
    "* <b><i>Container Infrastructure Management service (Magnum)</i></b>: The Container Infrastructure Management service codenamed (magnum) is an OpenStack API service developed by the OpenStack Containers Team making container orchestration engines (COE) such as Docker Swarm, Kubernetes and Mesos available as first class resources in OpenStack. Magnum uses Heat to orchestrate an OS image which contains Docker and Kubernetes and runs that image in either virtual machines or bare metal in a cluster configuration. https://docs.openstack.org/magnum/stein/index.html\n",
    "\n",
    "* <b><i>Containers service (Zun)</i></b>: Zun is an OpenStack Container service. It aims to provide an API service for running application containers without the need to manage servers or clusters. https://docs.openstack.org/zun/stein/index.html\n",
    "\n",
    "* <b><i>DNS service (Designate)</i></b>: https://docs.openstack.org/designate/stein/index.html\n",
    "\n",
    "* <b><i>Clustering service (Senlin)</i></b>: Senlin is a clustering service for OpenStack clouds. It creates and operates clusters of homogeneous objects exposed by other OpenStack services. The goal is to make orchestration of collections of similar objects easier. https://docs.openstack.org/senlin/stein/index.html\n",
    "\n",
    "* <b><i>Load-balancer service (Octavia)</i></b>: https://docs.openstack.org/octavia/stein/index.html\n",
    "\n",
    "* <b><i>Governance service (Congress)</i></b>: With Congress, a cloud operator can declare, monitor, enforce, and audit “policy” in a heterogeneous cloud environment. Congress gets inputs from a cloud’s various cloud services; for example in OpenStack, Congress fetches information about VMs from Nova, and network state from Neutron, etc. Congress then feeds input data from those services into its policy engine where Congress verifies that the cloud’s actual state abides by the cloud operator’s policies. https://docs.openstack.org/congress/stein/index.html\n",
    "\n",
    "* <b><i>Placement service (Placement)</i></b>: This is a REST API stack and data model used to track resource provider inventories and usages, along with different classes of resources. For example, a resource provider can be a compute node, a shared storage pool, or an IP allocation pool. The placement service tracks the inventory and usage of each provider. For example, an instance created on a compute node may be a consumer of resources such as RAM and CPU from a compute node resource provider, disk from an external shared storage pool resource provider and IP addresses from an external IP pool resource provider. https://docs.openstack.org/placement/stein/index.html\n",
    "\n",
    "* <b><i>RCA (Root Cause Analysis) service (Vitrage)</i></b>: https://docs.openstack.org/vitrage/stein/index.html\n",
    "\n",
    "* <b><i>Messaging service (Zaqar)</i></b>: https://docs.openstack.org/zaqar/stein/index.html\n",
    "\n",
    "* <b><i>Shared File Systems service (Manila)</i></b>: https://docs.openstack.org/manila/stein/index.html\n",
    "\n",
    "* <b><i>Software Development Lifecycle Automation service (Solum)</i></b>: Solum builds a Docker image by layering your app’s code on top of the related languagepack’s docker image. Then, Solum creates a stack via Heat to deploy your app. https://docs.openstack.org/solum/stein/index.html\n",
    "\n",
    "****\n",
    "\n",
    "### 节点类型：\n",
    "* Controller: The controller node runs the Identity service, Image service, management portions of Compute, management portion of Networking, various Networking agents, and the Dashboard. It also includes supporting services such as an SQL database, message queue, and NTP.\n",
    "    * https://docs.openstack.org/install-guide/environment-networking-controller.html\n",
    "    * Most OpenStack services use an SQL database to store information. The database typically runs on the controller node. https://docs.openstack.org/install-guide/environment-sql-database.html\n",
    "    * OpenStack uses a message queue to coordinate operations and status information among services. The message queue service typically runs on the controller node. https://docs.openstack.org/install-guide/environment-messaging.html\n",
    "    * The Identity service authentication mechanism for services uses Memcached to cache tokens. The memcached service typically runs on the controller node. https://docs.openstack.org/install-guide/environment-memcached.html\n",
    "    * OpenStack services may use Etcd, a distributed reliable key-value store for distributed key locking, storing configuration, keeping track of service live-ness and other scenarios. https://docs.openstack.org/install-guide/environment-etcd.html\n",
    "* Compute: The compute node runs the hypervisor portion of Compute that operates instances. By default, Compute uses the KVM hypervisor. The compute node also runs a Networking service agent that connects instances to virtual networks and provides firewalling services to instances via security groups.\n",
    "    * https://docs.openstack.org/install-guide/environment-networking-compute.html\n",
    "* Block Storage: The optional Block Storage node contains the disks that the Block Storage and Shared File System services provision for instances.\n",
    "    * https://docs.openstack.org/install-guide/environment-networking-storage-cinder.html\n",
    "* Object Storage: The optional Object Storage node contain the disks that the Object Storage service uses for storing accounts, containers, and objects."
   ]
  },
  {
   "cell_type": "markdown",
   "metadata": {},
   "source": [
    "****"
   ]
  },
  {
   "cell_type": "markdown",
   "metadata": {},
   "source": [
    "# 核心概念\n",
    "\n",
    "### 虚拟化技术"
   ]
  },
  {
   "cell_type": "markdown",
   "metadata": {},
   "source": [
    "\n"
   ]
  }
 ],
 "metadata": {
  "kernelspec": {
   "display_name": "Python 3",
   "language": "python",
   "name": "python3"
  },
  "language_info": {
   "codemirror_mode": {
    "name": "ipython",
    "version": 3
   },
   "file_extension": ".py",
   "mimetype": "text/x-python",
   "name": "python",
   "nbconvert_exporter": "python",
   "pygments_lexer": "ipython3",
   "version": "3.7.4"
  }
 },
 "nbformat": 4,
 "nbformat_minor": 2
}
