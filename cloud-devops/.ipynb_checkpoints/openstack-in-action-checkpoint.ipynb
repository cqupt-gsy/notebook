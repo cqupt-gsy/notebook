{
 "cells": [
  {
   "cell_type": "markdown",
   "metadata": {},
   "source": [
    "# 从0开始搭建Openstack\n",
    "* 安装参考文档：\n",
    "    * https://www.openstack.org/software/start/\n",
    "    * https://docs.openstack.org/install-guide/index.html\n",
    "    * https://learnopenstack.info/\n",
    "    * https://www.mirantis.com/\n",
    "    * https://aws.amazon.com/cn/free/?nc2=h_ql_pr&all-free-tier.sort-by=item.additionalFields.SortRank&all-free-tier.sort-order=asc&awsf.Free%20Tier%20Types=categories%23featured"
   ]
  },
  {
   "cell_type": "markdown",
   "metadata": {},
   "source": [
    "****"
   ]
  },
  {
   "cell_type": "markdown",
   "metadata": {},
   "source": [
    "# 可定制化服务\n",
    "* AWS Batch: https://docs.aws.amazon.com/batch/index.html\n",
    "* Amazon Elastic Kubernetes Service: https://docs.aws.amazon.com/eks/index.html\n",
    "* AWS Lambda: https://docs.aws.amazon.com/lambda/index.html"
   ]
  }
 ],
 "metadata": {
  "kernelspec": {
   "display_name": "Python 3",
   "language": "python",
   "name": "python3"
  },
  "language_info": {
   "codemirror_mode": {
    "name": "ipython",
    "version": 3
   },
   "file_extension": ".py",
   "mimetype": "text/x-python",
   "name": "python",
   "nbconvert_exporter": "python",
   "pygments_lexer": "ipython3",
   "version": "3.6.3"
  }
 },
 "nbformat": 4,
 "nbformat_minor": 2
}
