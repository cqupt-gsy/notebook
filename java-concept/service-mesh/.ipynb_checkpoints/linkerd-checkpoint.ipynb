{
 "cells": [
  {
   "cell_type": "markdown",
   "metadata": {},
   "source": [
    "# Concepts\n",
    "\n",
    "### What is Linkerd\n",
    "* Linkerd is a service mesh for Kubernetes and other frameworks. It makes running services easier and safer by giving you runtime debugging, observability, reliability, and security—all without requiring any changes to your code.\n",
    "* Linkerd has three basic components: a UI, a data plane, and a control plane. You run Linkerd by\n",
    "    * Installing the CLI on your local system;\n",
    "    * Installing the control plane into your cluster;\n",
    "    * Adding your services to Linkerd’s data plane.\n",
    "* Linkerd works by installing a set of ultralight, transparent proxies next to each service instance. These proxies automatically handle all traffic to and from the service. Because they’re transparent, these proxies act as highly instrumented out-of-process network stacks, sending telemetry to, and receiving control signals from, the control plane. This design allows Linkerd to measure and manipulate traffic to and from your service without introducing excessive latency.\n",
    "\n",
    "### Architecture\n",
    "* <b>Control Plane</b>: The Linkerd control plane is a set of services that run in a dedicated Kubernetes namespace (linkerd by default). These services accomplish various things—aggregating telemetry data, providing a user-facing API, providing control data to the data plane proxies, etc. Together, they drive the behavior of the data plane. \n",
    "    * <b>Controller</b> - The controller deployment consists of multiple containers (public-api, proxy-api, destination, tap) that provide the bulk of the control plane’s functionality.\n",
    "    * <b>Web</b> - The web deployment provides the Linkerd dashboard.\n",
    "    * <b>Prometheus</b> - All of the metrics exposed by Linkerd are scraped via Prometheus and stored here. This is an instance of Prometheus that has been configured to work specifically with the data that Linkerd generates.\n",
    "        * Prometheus is a cloud native monitoring solution that is used to collect and store all the Linkerd metrics. It is installed as part of the control plane and provides the data used by the CLI, dashboard and Grafana.\n",
    "        * The proxy exposes a /metrics endpoint for Prometheus to scrape on port 4191. This is scraped every 10 seconds. These metrics are then available to all the other Linkerd components, such as the CLI and dashboard.\n",
    "    * <b>Grafana</b> - Linkerd comes with many dashboards out of the box. The Grafana component is used to render and display these dashboards. You can reach these dashboards via links in the Linkerd dashboard itself.\n",
    "        * As a component of the control plane, Grafana provides actionable dashboards for your services out of the box. It is possible to see high level metrics and dig down into the details, even for pods.\n",
    "    * <img src=\"../../images/javaee/control-plane.png\" width=\"500px\">\n",
    "* <b>Data Plane</b>: The Linkerd data plane is comprised of lightweight proxies, which are deployed as sidecar containers alongside each instance of your service code. In order to “add” a service to the Linkerd service mesh, the pods for that service must be redeployed to include a data plane proxy in each pod.\n",
    "    * These proxies transparently intercept communication to and from each pod, and add features such as instrumentation and encryption (TLS), as well as allowing and denying requests according to the relevant policy.\n",
    "* <b>Proxy</b>: An ultralight transparent proxy written in `Rust`, the proxy is installed into each pod of a service and becomes part of the data plane. It receives all incoming traffic for a pod and intercepts all outgoing traffic via an `initContainer` that configures `iptables` to forward the traffic correctly. \n",
    "    * Transparent, zero-config proxying for HTTP, HTTP/2, and arbitrary TCP protocols.\n",
    "    * Automatic Prometheus metrics export for HTTP and TCP traffic.\n",
    "    * Transparent, zero-config WebSocket proxying.\n",
    "    * Automatic, latency-aware, layer-7 load balancing.\n",
    "    * Automatic layer-4 load balancing for non-HTTP traffic.\n",
    "    * Automatic TLS (experimental).\n",
    "    * An on-demand diagnostic tap API.\n",
    "* <b>CLI</b>: The Linkerd CLI is run locally on your machine and is used to interact with the control and data planes. It can be used to view statistics, debug production issues in real time and install/upgrade the control and data planes.\n",
    "* <b>Dashboard</b>: The Linkerd dashboard provides a high level view of what is happening with your services in real time. It can be used to view the “golden” metrics (success rate, requests/second and latency), visualize service dependencies and understand the health of specific service routes. \n"
   ]
  },
  {
   "cell_type": "markdown",
   "metadata": {},
   "source": [
    "****"
   ]
  },
  {
   "cell_type": "markdown",
   "metadata": {},
   "source": [
    "# 操作实战\n",
    "* Getting Started: https://linkerd.io/2/getting-started/\n",
    "* Upgrade: https://linkerd.io/2/upgrade/\n",
    "* Adding Your Service: https://linkerd.io/2/adding-your-service/\n",
    "    * example: https://linkerd.io/2/cli/inject/\n",
    "* Debugging: https://linkerd.io/2/debugging/\n",
    "* Ingress: https://linkerd.io/2/ingress/\n",
    "* Supported Protocols: https://linkerd.io/2/supported-protocols/\n",
    "* <b>CLI</b>: https://linkerd.io/2/cli/\n",
    "* <b>Observability</b>: https://linkerd.io/2/observability/"
   ]
  }
 ],
 "metadata": {
  "kernelspec": {
   "display_name": "Python 3",
   "language": "python",
   "name": "python3"
  },
  "language_info": {
   "codemirror_mode": {
    "name": "ipython",
    "version": 3
   },
   "file_extension": ".py",
   "mimetype": "text/x-python",
   "name": "python",
   "nbconvert_exporter": "python",
   "pygments_lexer": "ipython3",
   "version": "3.6.3"
  }
 },
 "nbformat": 4,
 "nbformat_minor": 2
}
