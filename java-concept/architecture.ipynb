{
 "cells": [
  {
   "cell_type": "markdown",
   "metadata": {},
   "source": [
    "# 架构演化进程\n",
    "<table>\n",
    "    <tr>\n",
    "        <td>\n",
    "            <img src='../images/javaee/web架构1.png'>\n",
    "        </td>\n",
    "        <td>\n",
    "            <img src='../images/javaee/web架构2.png'>\n",
    "        </td>\n",
    "    </tr>\n",
    "    <tr>\n",
    "        <td>\n",
    "            <img src='../images/javaee/web架构3.png'>\n",
    "        </td>\n",
    "        <td>\n",
    "            <img src='../images/javaee/web架构4.png'>\n",
    "        </td>\n",
    "    </tr>\n",
    "    <tr>\n",
    "        <td>\n",
    "            <img src='../images/javaee/web架构5.png'>\n",
    "        </td>\n",
    "        <td>\n",
    "            <img src='../images/javaee/web架构6.png'>\n",
    "        </td>\n",
    "    </tr>\n",
    "    <tr>\n",
    "        <td>\n",
    "            <img src='../images/javaee/web架构7.png'>\n",
    "        </td>\n",
    "        <td>\n",
    "            <img src='../images/javaee/web架构8.png'>\n",
    "        </td>\n",
    "    </tr>\n",
    "    <tr>\n",
    "        <td>\n",
    "            <img src='../images/javaee/web架构9.png'>\n",
    "        </td>\n",
    "        <td>\n",
    "            <img src='../images/javaee/web架构10.png'>\n",
    "        </td>\n",
    "    </tr>\n",
    "</table>"
   ]
  },
  {
   "cell_type": "markdown",
   "metadata": {},
   "source": [
    "****"
   ]
  },
  {
   "cell_type": "markdown",
   "metadata": {},
   "source": [
    "# 网站核心要素\n",
    "* 性能：响应时间、并发数、吞吐量（TPS每秒事务数，HPS每秒HTTP请求数，QPS每秒查询数）、性能计数器\n",
    "    * 性能测试、负载测试、压力测试、稳定性测试\n",
    "    * 前端：减少HTTP请求，使用浏览器缓存，启用压缩，CSS放上面JS放下面，减少Cookie传输，CDN加速以及反向代理\n",
    "    * 后端：分布式缓存（JBoss Cache、MemCached），异步操作（使用消息队列，能慢点的操作就最后执行），使用集群，优化代码\n",
    "    * 存储性能优化：闪存，B+树，RAID\n",
    "* 可用性：\n",
    "    * 负载均衡进行无状态服务的失效转移\n",
    "    * 应用服务集群的Session管理，Session复制，Session绑定，利用Cookie记录Session，Session服务器\n",
    "    * 分级管理，超时设置，异步调用，服务降级，幂等性设计\n",
    "* 伸缩性：\n",
    "    * HTTP重定向负载均衡，DNS域名解析负载均衡，反向代理负载均衡，IP负载均衡，数据链路层负载均衡\n",
    "* 扩展性：\n",
    "    * 消息队列对事件解耦\n",
    "* 安全性："
   ]
  },
  {
   "cell_type": "markdown",
   "metadata": {},
   "source": [
    "****"
   ]
  },
  {
   "cell_type": "markdown",
   "metadata": {},
   "source": [
    "# 分布式集群\n",
    "* 分布式集群需要解决的两点问题：集群中服务器的状态，包含特定的控制数据，以及集群的路由算法\n",
    "    * 使用三方云服务提供的分布式集群能力，AWS的ELB+ASG：\n",
    "        * "
   ]
  }
 ],
 "metadata": {
  "kernelspec": {
   "display_name": "Python 3",
   "language": "python",
   "name": "python3"
  },
  "language_info": {
   "codemirror_mode": {
    "name": "ipython",
    "version": 3
   },
   "file_extension": ".py",
   "mimetype": "text/x-python",
   "name": "python",
   "nbconvert_exporter": "python",
   "pygments_lexer": "ipython3",
   "version": "3.6.3"
  }
 },
 "nbformat": 4,
 "nbformat_minor": 2
}
