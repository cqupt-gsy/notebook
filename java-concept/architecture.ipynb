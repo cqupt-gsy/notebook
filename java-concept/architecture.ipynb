{
 "cells": [
  {
   "cell_type": "markdown",
   "metadata": {},
   "source": [
    "# 架构演化进程\n",
    "<table>\n",
    "    <tr>\n",
    "        <td>\n",
    "            <img src='../images/javaee/web架构1.png'>\n",
    "        </td>\n",
    "        <td>\n",
    "            <img src='../images/javaee/web架构2.png'>\n",
    "        </td>\n",
    "        <td>\n",
    "            <img src='../images/javaee/web架构3.png'>\n",
    "        </td>\n",
    "        <td>\n",
    "            <img src='../images/javaee/web架构4.png'>\n",
    "        </td>\n",
    "        <td>\n",
    "            <img src='../images/javaee/web架构5.png'>\n",
    "        </td>\n",
    "    </tr>\n",
    "    <tr>\n",
    "        <td>\n",
    "            <img src='../images/javaee/web架构6.png'>\n",
    "        </td>\n",
    "        <td>\n",
    "            <img src='../images/javaee/web架构7.png'>\n",
    "        </td>\n",
    "        <td>\n",
    "            <img src='../images/javaee/web架构8.png'>\n",
    "        </td>\n",
    "        <td>\n",
    "            <img src='../images/javaee/web架构9.png'>\n",
    "        </td>\n",
    "        <td>\n",
    "            <img src='../images/javaee/web架构10.png'>\n",
    "        </td>\n",
    "    </tr>\n",
    "</table>"
   ]
  },
  {
   "cell_type": "markdown",
   "metadata": {},
   "source": [
    "****"
   ]
  },
  {
   "cell_type": "markdown",
   "metadata": {},
   "source": [
    "# 分布式架构\n",
    "* 一致性算法的核心思想\n",
    "* 选主算法\n",
    "* 服务注册与发现\n",
    "* 服务端或客户端的负载均衡\n",
    "* 分布式事务\n",
    "* 分布式锁算法: https://redis.io/topics/distlock\n",
    "* 数据库分片"
   ]
  },
  {
   "cell_type": "markdown",
   "metadata": {},
   "source": [
    "****"
   ]
  },
  {
   "cell_type": "markdown",
   "metadata": {},
   "source": [
    "# 微服务\n",
    "* 微服务的服务是独立的，每个服务都包含自己的数据库和负载群衡器等功能，并且service和service之间是严格隔离的且拥有自己独立的技术栈\n",
    "    * 最大的优势是服务拆分，进行不同的资源配置，比如评论服务可能没有支付服务重要，可以把更多的资源分配给支付服务\n",
    "    * 随着服务的拆分，团队也可以拆分成更精干的小团队\n",
    "    * 可以利用多数据服务，每个service根据应用场景选择合适的数据中心\n",
    "    * 不足：日志，监控，测试，调试变得困难，服务被拆分了，功能被拆分了，问题定位就变得复杂了\n",
    "* 容器化相关\n",
    "    * 虚拟机和容器的最明显的区别是：虚拟机能存储状态信息，例如保持写文件的结果；容器不能保持状态信息，每次都会从基础镜像构建，任何容器内的状态修改都会被丢弃\n",
    "    * mutable infrastructure是指服务器一旦创建，就不会被销毁，所有新的服务器修改都会登录到该服务器上进行修改，类型虚拟机有状态\n",
    "    * immutable infrastructure是指每次服务器需要新的修改都会重新创建，并将老的关掉，类似容器无状态\n",
    "* 微服务与SOA的区别：\n",
    "    * SOA服务之间的通信是通过消息总线来管理，而微服务是发布服务订阅服务的方式，实现去中心化\n",
    "    * SOA服务的部署是将所有服务作为一个整体部署，而微服务的每个服务都是独立部署\n",
    "    * SOA解决大型，复杂的企业应用，而微服务解决小，合理划分，基于web的应用\n",
    "    * SOA服务共享数据库，而微服务拥有独立的数据库\n",
    "    * SOA使用ESB集中式管理消费者和生产者的通信\n",
    "    * SOA是微服务的一个超集，它的服务规模可大可小"
   ]
  }
 ],
 "metadata": {
  "kernelspec": {
   "display_name": "Python 3",
   "language": "python",
   "name": "python3"
  },
  "language_info": {
   "codemirror_mode": {
    "name": "ipython",
    "version": 3
   },
   "file_extension": ".py",
   "mimetype": "text/x-python",
   "name": "python",
   "nbconvert_exporter": "python",
   "pygments_lexer": "ipython3",
   "version": "3.6.3"
  }
 },
 "nbformat": 4,
 "nbformat_minor": 2
}
