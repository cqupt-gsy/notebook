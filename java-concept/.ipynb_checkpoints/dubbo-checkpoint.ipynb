{
 "cells": [
  {
   "cell_type": "markdown",
   "metadata": {},
   "source": [
    "# 理论基础\n",
    "\n",
    "### 架构:\n",
    "* <img src=\"../images/javaee/dubbo-architecture.jpg\" width=\"400px\">\n",
    "* 0, 服务容器负责启动，加载，运行服务提供者。\n",
    "* 1, 服务提供者在启动时，向注册中心注册自己提供的服务。\n",
    "* 2, 服务消费者在启动时，向注册中心订阅自己所需的服务。\n",
    "* 3, 注册中心返回服务提供者地址列表给消费者，如果有变更，注册中心将基于长连接推送变更数据给消费者。\n",
    "* 4, 服务消费者，从提供者地址列表中，基于软负载均衡算法，选一台提供者进行调用，如果调用失败，再选另一台调用。\n",
    "* 5, 服务消费者和提供者，在内存中累计调用次数和调用时间，定时每分钟发送一次统计数据到监控中心。\n",
    "\n",
    "### 框架细节\n",
    "* \n",
    "<table>\n",
    "    <tr>\n",
    "        <td><center><h3>框架总图</h3></center></td>\n",
    "        <td><center><h3>框架总图中的调用链</h3></center></td>\n",
    "    </tr>\n",
    "    <tr>\n",
    "        <td><img src=\"../images/javaee/dubbo-framework.jpg\" width=\"500px\"></td>\n",
    "        <td><img src=\"../images/javaee/dubbo-extension.jpg\" width=\"450px\"></td></td>\n",
    "    </tr>\n",
    "    <tr>\n",
    "        <td><center><h3>服务注册/暴露时序图</h3></center></td>\n",
    "        <td><center><h3>服务引用/调用时序图</h3></center></td>\n",
    "    </tr>\n",
    "    <tr>\n",
    "        <td><img src=\"../images/javaee/dubbo-export.jpg\" width=\"500px\"></td></td>\n",
    "        <td><img src=\"../images/javaee/dubbo-refer.jpg\" width=\"450px\"></td></td>\n",
    "    </tr>\n",
    "</table>\n",
    "\n",
    "### 框架实现细节\n",
    "* 参考链接：https://dubbo.incubator.apache.org/zh-cn/docs/dev/implementation.html\n",
    "* 初始化过程细节\n",
    "    * 解析服务\n",
    "        * 基于 dubbo.jar 内的 META-INF/spring.handlers 配置，Spring 在遇到 dubbo 名称空间时，会回调 DubboNamespaceHandler。\n",
    "        * 所有 dubbo 的标签，都统一用 DubboBeanDefinitionParser 进行解析，基于一对一属性映射，将 XML 标签解析为 Bean 对象。\n",
    "        * 在ServiceConfig.export()或ReferenceConfig.get()初始化时，将Bean对象转换URL格式，所有Bean属性转成URL的参数。\n",
    "        * 然后将 URL 传给 协议扩展点，基于扩展点的 扩展点自适应机制，根据 URL 的协议头，进行不同协议的服务暴露或引用。\n",
    "    * 暴露服务\n",
    "        * 只暴露服务端口：\n",
    "            * 在没有注册中心，直接暴露提供者的情况下，ServiceConfig解析出的URL的格式为：dubbo://service-host/com.foo.FooService?version=1.0.0。\n",
    "            * 基于扩展点自适应机制，通过 URL 的 dubbo:// 协议头识别，直接调用 DubboProtocol的 export() 方法，打开服务端口。\n",
    "        * 向注册中心暴露服务：\n",
    "            * 在有注册中心，需要注册提供者地址的情况下，ServiceConfig 解析出的 URL 的格式为: registry://registry-host/com.alibaba.dubbo.registry.RegistryService?export=URL.encode(\"dubbo://service-host/com.foo.FooService?version=1.0.0\")，\n",
    "            * 基于扩展点自适应机制，通过 URL 的 registry:// 协议头识别，就会调用 RegistryProtocol 的 export() 方法，将 export 参数中的提供者 URL，先注册到注册中心。\n",
    "            * 再重新传给 Protocol 扩展点进行暴露： dubbo://service-host/com.foo.FooService?version=1.0.0，然后基于扩展点自适应机制，通过提供者 URL 的 dubbo:// 协议头识别，就会调用 DubboProtocol 的 export() 方法，打开服务端口。\n",
    "        * Dubbo 协议的 Invoker 转为 Exporter 发生在 DubboProtocol 类的 export 方法，它主要是打开 socket 侦听服务\n",
    "    * 引用服务\n",
    "        * 直连引用服务：\n",
    "            * 在没有注册中心，直连提供者的情况下，ReferenceConfig 解析出的 URL 的格式为：dubbo://service-host/com.foo.FooService?version=1.0.0。\n",
    "            * 基于扩展点自适应机制，通过 URL 的 dubbo:// 协议头识别，直接调用 DubboProtocol 的 refer() 方法，返回提供者引用。\n",
    "        * 从注册中心发现引用服务：\n",
    "            * 在有注册中心，通过注册中心发现提供者地址的情况下，ReferenceConfig 解析出的 URL 的格式为： registry://registry-host/com.alibaba.dubbo.registry.RegistryService?refer=URL.encode(\"consumer://consumer-host/com.foo.FooService?version=1.0.0\")。\n",
    "            * 基于扩展点自适应机制，通过 URL 的 registry:// 协议头识别，就会调用 RegistryProtocol 的 refer() 方法，基于 refer 参数中的条件，查询提供者 URL，如： dubbo://service-host/com.foo.FooService?version=1.0.0。\n",
    "            * 基于扩展点自适应机制，通过提供者 URL 的 dubbo:// 协议头识别，就会调用 DubboProtocol 的 refer() 方法，得到提供者引用。\n",
    "            * 然后 RegistryProtocol 将多个提供者引用，通过 Cluster 扩展点，伪装成单个提供者引用返回。"
   ]
  },
  {
   "cell_type": "markdown",
   "metadata": {},
   "source": [
    "****"
   ]
  },
  {
   "cell_type": "markdown",
   "metadata": {},
   "source": [
    "# 实践指南\n",
    "* 配置示例：https://dubbo.incubator.apache.org/zh-cn/docs/user/configuration/xml.html\n",
    "* 功能示例：https://dubbo.incubator.apache.org/zh-cn/docs/user/demos/preflight-check.html\n",
    "* 配置属性集合：https://dubbo.incubator.apache.org/zh-cn/docs/user/references/xml/introduction.html\n",
    "* 协议汇总：https://dubbo.incubator.apache.org/zh-cn/docs/user/references/protocol/introduction.html\n",
    "* 注册中心：https://dubbo.incubator.apache.org/zh-cn/docs/user/references/registry/introduction.html\n",
    "* 最佳实践：https://dubbo.incubator.apache.org/zh-cn/docs/user/recommend.html"
   ]
  }
 ],
 "metadata": {
  "kernelspec": {
   "display_name": "Python 3",
   "language": "python",
   "name": "python3"
  },
  "language_info": {
   "codemirror_mode": {
    "name": "ipython",
    "version": 3
   },
   "file_extension": ".py",
   "mimetype": "text/x-python",
   "name": "python",
   "nbconvert_exporter": "python",
   "pygments_lexer": "ipython3",
   "version": "3.6.3"
  }
 },
 "nbformat": 4,
 "nbformat_minor": 2
}
