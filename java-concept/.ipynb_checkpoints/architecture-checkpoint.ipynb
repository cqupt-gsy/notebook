{
 "cells": [
  {
   "cell_type": "markdown",
   "metadata": {},
   "source": [
    "# 架构演化进程\n",
    "<table>\n",
    "    <tr>\n",
    "        <td>\n",
    "            <img src='../images/javaee/web架构1.png'>\n",
    "        </td>\n",
    "        <td>\n",
    "            <img src='../images/javaee/web架构2.png'>\n",
    "        </td>\n",
    "        <td>\n",
    "            <img src='../images/javaee/web架构3.png'>\n",
    "        </td>\n",
    "        <td>\n",
    "            <img src='../images/javaee/web架构4.png'>\n",
    "        </td>\n",
    "        <td>\n",
    "            <img src='../images/javaee/web架构5.png'>\n",
    "        </td>\n",
    "    </tr>\n",
    "    <tr>\n",
    "        <td>\n",
    "            <img src='../images/javaee/web架构6.png'>\n",
    "        </td>\n",
    "        <td>\n",
    "            <img src='../images/javaee/web架构7.png'>\n",
    "        </td>\n",
    "        <td>\n",
    "            <img src='../images/javaee/web架构8.png'>\n",
    "        </td>\n",
    "        <td>\n",
    "            <img src='../images/javaee/web架构9.png'>\n",
    "        </td>\n",
    "        <td>\n",
    "            <img src='../images/javaee/web架构10.png'>\n",
    "        </td>\n",
    "    </tr>\n",
    "</table>"
   ]
  },
  {
   "cell_type": "markdown",
   "metadata": {},
   "source": [
    "****"
   ]
  },
  {
   "cell_type": "markdown",
   "metadata": {},
   "source": [
    "# 分布式系统\n",
    "* CAP定理\n",
    "* BASE定理\n",
    "* 一致性算法的核心思想\n",
    "* 选主算法\n",
    "* 服务端或客户端的负载均衡\n",
    "* 分布式事务\n",
    "* 分布式锁算法: https://redis.io/topics/distlock\n",
    "* 数据库分片"
   ]
  },
  {
   "cell_type": "markdown",
   "metadata": {},
   "source": [
    "****"
   ]
  },
  {
   "cell_type": "markdown",
   "metadata": {},
   "source": [
    "# SOA vs Microservice\n",
    "* 两种架构都是分布式系统架构，都存在分布式领域的通用问题，基本问题都能被CAP定理和BASE定理解释\n",
    "\n",
    "### SOA\n",
    "* A Service Oriented Architecture is a software architecture pattern, which application components provide services to other components via a <b>communications protocol</b> over a network. These distinct services carry out some small functions, such as <i>validating payment, creating a user account, or providing social log-in</i>.\n",
    "* Service-oriented Architecture is less about how to modularize an application, and more about how to compose an application by <b>integration of distributed</b>, separately-maintained and deployed software components. \n",
    "* There are 2 main roles in SOA, a service provider, and a service consumer. A software agent may play both roles. The Consumer Layer is the point where users (human, other components of the app or third parties) interact with the SOA and the Provider Layer consists of all the services within the SOA.\n",
    "\n",
    "****\n",
    "\n",
    "### Microservices\n",
    "* Microservices are the next step in the evolution of Service-Oriented Architectures. Basically, this architecture type is a particular way of developing software, web or mobile applications as suites of independent services. These services are created to serve only one specific business function, such as <i>User Management, User Roles, E-commerce Cart, Search Engine, Social Media Logins etc</i>. Furthermore, they are completely independent of each other, meaning they can be written in <b>different programming languages and use different databases</b>. Centralized services management is almost non-existent and the microservices use <b>lightweight HTTP, REST or Thrift APIs for communicating between themselves</b>.\n",
    "\n",
    "****\n",
    "\n",
    "### Where’s The Difference\n",
    "* Structure: <img src=\"../images/javaee/difference_between_soa_ms.png\" width=\"500px\">\n",
    "* Development:\n",
    "    * SOA: 与ESB所选的技术栈紧耦合，需要基于ESB提供商提供的消息协议编程，也就是说需要使用或者实现ESB提供商的客户端，以支撑消息通信；同时为了保证消息通信过程的可靠性，推荐所有服务之间尽量使用同一数据源，减少分布式事务对系统的影响；一般来说是基于XML为载体传输消息\n",
    "    * Microservices: 团队可以自由选择任何技术栈实现新的服务，只需要保证服务的对外接口规范一致；同时每个服务可以使用自己独立的数据存储技术处理数据，但同时带来了很严重的分布式事务问题；一般来说是基于JSON为载体传输消息\n",
    "    * \n",
    "    <table>\n",
    "        <tr>\n",
    "            <td><img src=\"../images/javaee/soa.png\"></td>\n",
    "            <td><img src=\"../images/javaee/ms.png\"></td>\n",
    "        </tr>\n",
    "    </table>\n",
    "* Development: \n",
    "    * SOA: 多个服务依赖之间的团队需要协作沟通，共同部署；同时对面向容器，云平台部署不友好\n",
    "    * Microservices: 团队完全独立部署，无需与任何其他团队沟通；同时对面向容器，云平台部署友好\n",
    "* Communication:\n",
    "     * SOA: 通过ESB完成服务之间的通信，容易造成单点问题；同时一旦下游服务出现延迟或者异常，整个服务系统都会受影响\n",
    "     * Microservices: 服务之间的通信是独立的，去中心化；同时一个服务的异常不会影响整个系统服务，注意如果没有熔断机制，被依赖的服务还是会受影响的\n",
    "* Interoperability\n",
    "    * SOA: 支持多种协议，ESB提供商上层支持的协议都可以，因为在底层都会将各种协议转换成ESB自己的消息协议\n",
    "    * Microservices: 名义上支持多种协议，但是为了解耦，所以通常使用HTTP协议\n",
    "* Relations: <img src=\"../images/javaee/relation_soa_ms.png\" width=\"300px\">\n",
    "* Framework:\n",
    "    * SOA: Kafka, RocketMQ, ActiveMQ\n",
    "    * Microservices: Spring cloud, Dubbo, Netflix, Istio\n",
    "* Summary:\n",
    "    * SOA: 适用大型企业应用，大型企业级别的架构，因为一旦建立，整个集团都会依赖该架构做集成和开发\n",
    "    * Microservices: 适用小型mobile或web，且边界划分明确的应用"
   ]
  },
  {
   "cell_type": "markdown",
   "metadata": {},
   "source": [
    "****"
   ]
  },
  {
   "cell_type": "markdown",
   "metadata": {},
   "source": [
    "# Service Mesh\n",
    "* <b>WHAT IS A SERVICE MESH</b>\n",
    "    * <b>The service mesh is a critical component of the cloud native stack</b>. \n",
    "    * A service mesh is a dedicated infrastructure layer for <b>handling service-to-service communication</b>. It’s responsible for the reliable delivery of requests through the complex topology of services that comprise a modern, cloud native application. In practice, the service mesh is typically implemented as an array of <b>lightweight network proxies</b> that are <b>deployed alongside application code</b>, without the application needing to be aware. \n",
    "    * The concept of the service mesh as a separate layer is tied to the rise of the cloud native application. In the cloud native model, a single application might consist of hundreds of services; each service might have thousands of instances; and each of those instances might be in a constantly-changing state as they are dynamically scheduled by an orchestrator like Kubernetes. \n",
    "    * As the TCP stack abstracts the mechanics of reliably delivering bytes between network endpoints, the service mesh abstracts the mechanics of reliably delivering requests between services. The service mesh doesn’t care about the actual payload or how it’s encoded. The application has a high-level goal (“send something from A to B”), and the job of the service mesh is to accomplish this goal while handling any failures along the way.\n",
    "    * <b>The service mesh is ultimately not an introduction of new functionality, but rather a shift in where functionality is located</b>\n",
    "* <b>WHAT DOES A SERVICE MESH ACTUALLY DO</b>\n",
    "    * Linkerd applies dynamic routing rules to determine which service the requester intended. All of these routing rules are dynamically configurable, and can be applied both globally and for arbitrary slices of traffic.\n",
    "    * Having found the correct destination, Linkerd retrieves the corresponding pool of instances from the relevant service discovery endpoint, of which there may be several. If this information diverges from what Linkerd has observed in practice, Linkerd makes a decision about which source of information to trust.\n",
    "    * Linkerd chooses the instance most likely to return a fast response based on a variety of factors, including its observed latency for recent requests.\n",
    "    * Linkerd attempts to send the request to the instance, recording the latency and response type of the result.\n",
    "    * If the instance is down, unresponsive, or fails to process the request, Linkerd retries the request on another instance (but only if it knows the request is idempotent).\n",
    "    * If an instance is consistently returning errors, Linkerd evicts it from the load balancing pool, to be periodically retried later (for example, an instance may be undergoing a transient failure).\n",
    "    * If the deadline for the request has elapsed, Linkerd proactively fails the request rather than adding load with further retries.\n",
    "    * Linkerd captures every aspect of the above behavior in the form of metrics and distributed tracing, which are emitted to a centralized metrics system."
   ]
  }
 ],
 "metadata": {
  "kernelspec": {
   "display_name": "Python 3",
   "language": "python",
   "name": "python3"
  },
  "language_info": {
   "codemirror_mode": {
    "name": "ipython",
    "version": 3
   },
   "file_extension": ".py",
   "mimetype": "text/x-python",
   "name": "python",
   "nbconvert_exporter": "python",
   "pygments_lexer": "ipython3",
   "version": "3.6.3"
  }
 },
 "nbformat": 4,
 "nbformat_minor": 2
}
