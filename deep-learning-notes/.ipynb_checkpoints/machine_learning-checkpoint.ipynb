{
 "cells": [
  {
   "cell_type": "markdown",
   "metadata": {},
   "source": [
    "# 机器学习算法目标函数，所有优化方法和深度学习里面介绍的一样\n",
    "* 线性回归：\n",
    "    <table>\n",
    "        <tr>\n",
    "            <td><img src='../images/deeplearning/线性回归1.png'></td>\n",
    "            <td><img src='../images/deeplearning/线性回归2.png'></td>\n",
    "        </tr>\n",
    "    </table>\n",
    "* 逻辑回归\n",
    "    <table>\n",
    "        <tr>\n",
    "            <td><img src='../images/deeplearning/逻辑回归1.png'></td>\n",
    "            <td><img src='../images/deeplearning/逻辑回归2.png'></td>\n",
    "        </tr>\n",
    "    </table>\n",
    "* 支持向量机（大间距分类器），原理在《machine-learning》-《12_support-vector-machines》-《03_mathematics-behind-large-margin-classification.mp4》\n",
    "    * 求解训练集到目标函数之间的间距之和最小\n",
    "    * 核函数是将线性问题转成非线性问题，核函数可以替换\n",
    "    * 利用核函数，将原始数据集转换成$F=[f^1, f^2, \\cdots, f^m], f^m=[f^m_1, f^m_2, \\cdots, f^m_n]^T, f^1_1=kernels(x^1, l^1), f^1_2=kernels(x^1, l^2), f^m_n=kernels(x^m, l^n)$$m$是训练集数量，$n$是特征量(变量的数量)，当变量数量远远多于训练集数量$n>m$时($l^i=x^i$)，这种方法不在适用\n",
    "    * 和逻辑回归的区别是将激活函数换成ReLU函数，在损失函数前半部最小的情况下（等于0），保证后半部分最小，后半部分求得的值其实就是训练集到目标函数之间的间距之和（点到线的直线距离）\n",
    "    <table>\n",
    "        <tr>\n",
    "            <td><img src='../images/deeplearning/支持向量机1.png'></td>\n",
    "            <td><img src='../images/deeplearning/支持向量机2.png'></td>\n",
    "        </tr>\n",
    "        <tr>\n",
    "            <td><img src='../images/deeplearning/支持向量机3.png'></td>\n",
    "            <td><img src='../images/deeplearning/支持向量机4.png'></td>\n",
    "        </tr>\n",
    "        <tr>\n",
    "            <td><img src='../images/deeplearning/支持向量机5.png'></td>\n",
    "            <td><img src='../images/deeplearning/支持向量机6.png'></td>\n",
    "        </tr>\n",
    "    </table>"
   ]
  }
 ],
 "metadata": {
  "kernelspec": {
   "display_name": "Python 3",
   "language": "python",
   "name": "python3"
  },
  "language_info": {
   "codemirror_mode": {
    "name": "ipython",
    "version": 3
   },
   "file_extension": ".py",
   "mimetype": "text/x-python",
   "name": "python",
   "nbconvert_exporter": "python",
   "pygments_lexer": "ipython3",
   "version": "3.6.3"
  }
 },
 "nbformat": 4,
 "nbformat_minor": 2
}
