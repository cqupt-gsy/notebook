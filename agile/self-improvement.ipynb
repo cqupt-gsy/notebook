{
 "cells": [
  {
   "cell_type": "markdown",
   "metadata": {},
   "source": [
    "### 自我提升、发展他人\n",
    "<table>\n",
    "    <tr>\n",
    "        <td><img src=\"../images/agile/learning-flow.png\" width=\"400px\"></td>\n",
    "        <td><img src=\"../images/agile/learning-flow-state.png\" width=\"400px\"></td>\n",
    "        <td><img src=\"../images/agile/interests-finding.png\" width=\"400px\"></td>\n",
    "        <td><img src=\"../images/agile/help-others.png\" width=\"400px\"></td>\n",
    "    </tr>\n",
    "</table>\n",
    "\n",
    "****\n",
    "\n",
    "### 职业关系管理、沟通技巧\n",
    "<table>\n",
    "    <tr>\n",
    "        <td><img src=\"../images/agile/relationship-map.png\" width=\"400px\"></td>\n",
    "        <td><img src=\"../images/agile/relationship-map1.png\" width=\"400px\"></td>\n",
    "        <td><img src=\"../images/agile/communication.png\" width=\"400px\"></td>\n",
    "        <td><img src=\"../images/agile/conflicts.png\" width=\"400px\"></td>\n",
    "    </tr>\n",
    "</table>\n",
    "\n",
    "****\n",
    "\n",
    "### 项目管理\n",
    "<table>\n",
    "    <tr>\n",
    "        <td><img src=\"../images/agile/risk-manage.png\" width=\"400px\"></td>\n",
    "        <td><img src=\"../images/agile/tech-debts.png\" width=\"400px\"></td>\n",
    "    </tr>\n",
    "</table>\n"
   ]
  },
  {
   "cell_type": "markdown",
   "metadata": {},
   "source": [
    "### 学习误区\n",
    "* 误区一：靠意志力坚持\n",
    "* 误区二：同一时间学习很多内容\n",
    "* 误区三：把记忆等同于学习（缺少实战）\n",
    "* 误区四：没有目标下的学习\n",
    "* 误区五：不懂学习的边际效应（学习的度，掌握80%还是更多）\n",
    "* 误区六：盲目套用不合适的方法\n",
    "    * 行为技能：强调身体熟练度的技能，比如弹奏乐器，打字等。\n",
    "    * 理解性认知技能：强调理解的深度，能够抽象出更一般的规律，如战略规划，市场策略等。\n",
    "    * 程序性认知技能：强调先理解后刻意练习，如PPT，财务软件操作等。\n",
    "* 误区七：对学习方法不做迭代\n",
    "* 误区八：一味追求技巧，忽略底层规律\n",
    "* 误区九：知识过于碎片化，没有形成体系\n",
    "* 误区十：只学习了表层知识：找出大量原始素材----加工处理为有逻辑的数据----提炼联系变为知识----进一步内化成为智慧\n",
    "\n",
    "### 应对方法\n",
    "* 功利性学习策略\n",
    "    * 提高学习的目标性，解决没有目标的“盲学”以及同一时间学很多内容的焦虑（误区2和4）。\n",
    "    * 降低对意志力的要求，因为是工作必须要用的，有足够的外部驱动力逼着你学（误区1）。\n",
    "    * 解决只记忆不会用的问题，因为你学了就要在工作使用（误区3）。\n",
    "    * 很好地控制学习深度，因为工作要求不同，你很自然地就能确定某个知识和技能到底要学习到什么程度，从而实现较好的边际效应（误区5）。\n",
    "* 框架策略\n",
    "    * 框架策略要求你将知识和经验，按照自己的使用需要系统地组织起来，形成自己的知识体系。\n",
    "        * 解决了知识碎片化（误区9）\n",
    "        * 别人的技巧学了不能用的问题（误区8）\n",
    "        * 会不断对自己的学习方法做迭代（误区7）\n",
    "* 可迁移策略\n",
    "    * 可迁移策略要求你在学习时，要抓住知识和技能背后的本质规律，可以做到知识和技能跨岗位、跨行业、跨领域的迁移运用。\n",
    "        * 解决了学习停在表层（误区10）\n",
    "        * 学习方法的普适性不足的问题（误区6）。\n",
    "        \n",
    "* <img src=\"../images/agile/learning-method.jpeg\" width=\"500px\">"
   ]
  },
  {
   "cell_type": "markdown",
   "metadata": {},
   "source": [
    "### 沟通技巧\n",
    "* 总结：\n",
    "    * 第一步，从内心确认自己的利益、目的以及最优的备选方案\n",
    "    * 第二步，沟通过程中要将谈话保持在安全的范围中：对事不对人；对利益不对立场；坚持实事求是原则，参考对比现有成熟的规则\n",
    "    * 第三步，深入了解、理解对方的利益、目的：多问“为什么”，注意问为什么要保持安全的沟通氛围；多问“为什么不”\n",
    "    * 第四步，寻求双方的共同利益，创建共同利益的方案，执行计划\n",
    "* <img src=\"../images/agile/communication-skill.png\">"
   ]
  }
 ],
 "metadata": {
  "kernelspec": {
   "display_name": "Python 3",
   "language": "python",
   "name": "python3"
  },
  "language_info": {
   "codemirror_mode": {
    "name": "ipython",
    "version": 3
   },
   "file_extension": ".py",
   "mimetype": "text/x-python",
   "name": "python",
   "nbconvert_exporter": "python",
   "pygments_lexer": "ipython3",
   "version": "3.6.3"
  }
 },
 "nbformat": 4,
 "nbformat_minor": 2
}
