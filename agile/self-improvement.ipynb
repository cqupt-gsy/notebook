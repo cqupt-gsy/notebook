{
 "cells": [
  {
   "cell_type": "markdown",
   "metadata": {},
   "source": [
    "### 自我提升、发展他人\n",
    "<table>\n",
    "    <tr>\n",
    "        <td><img src=\"../images/agile/learning-flow.png\" width=\"400px\"></td>\n",
    "        <td><img src=\"../images/agile/learning-flow-state.png\" width=\"400px\"></td>\n",
    "        <td><img src=\"../images/agile/interests-finding.png\" width=\"400px\"></td>\n",
    "        <td><img src=\"../images/agile/help-others.png\" width=\"400px\"></td>\n",
    "    </tr>\n",
    "</table>\n",
    "\n",
    "****\n",
    "\n",
    "### 职业关系管理、沟通技巧\n",
    "<table>\n",
    "    <tr>\n",
    "        <td><img src=\"../images/agile/relationship-map.png\" width=\"400px\"></td>\n",
    "        <td><img src=\"../images/agile/relationship-map1.png\" width=\"400px\"></td>\n",
    "        <td><img src=\"../images/agile/communication.png\" width=\"400px\"></td>\n",
    "        <td><img src=\"../images/agile/conflicts.png\" width=\"400px\"></td>\n",
    "    </tr>\n",
    "</table>\n",
    "\n",
    "****\n",
    "\n",
    "### 项目管理\n",
    "<table>\n",
    "    <tr>\n",
    "        <td><img src=\"../images/agile/risk-manage.png\" width=\"400px\"></td>\n",
    "        <td><img src=\"../images/agile/tech-debts.png\" width=\"400px\"></td>\n",
    "    </tr>\n",
    "</table>\n"
   ]
  }
 ],
 "metadata": {
  "kernelspec": {
   "display_name": "Python 3",
   "language": "python",
   "name": "python3"
  },
  "language_info": {
   "codemirror_mode": {
    "name": "ipython",
    "version": 3
   },
   "file_extension": ".py",
   "mimetype": "text/x-python",
   "name": "python",
   "nbconvert_exporter": "python",
   "pygments_lexer": "ipython3",
   "version": "3.6.3"
  }
 },
 "nbformat": 4,
 "nbformat_minor": 2
}
