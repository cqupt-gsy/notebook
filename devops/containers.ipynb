{
 "cells": [
  {
   "cell_type": "markdown",
   "metadata": {},
   "source": [
    "# Docker\n",
    "* 容器化相关\n",
    "    * 虚拟机和容器的最明显的区别是：虚拟机能存储状态信息，例如保持写文件的结果；容器不能保持状态信息，每次都会从基础镜像构建，任何容器内的状态修改都会被丢弃\n",
    "    * mutable infrastructure是指服务器一旦创建，就不会被销毁，所有新的服务器修改都会登录到该服务器上进行修改，类似虚拟机有状态\n",
    "    * immutable infrastructure是指每次服务器需要新的修改都会重新创建，并将老的关掉，类似容器无状态\n",
    "* 《Docker容器与容器云》第41页，docker的原理解释，需要深刻的linux虚拟化知识，以及对docker非常熟悉的操作\n",
    "* 云计算三大服务：<img src='../images/devops/云计算服务.png' width='350px'>\n",
    "    * IaaS：如AWS的EC2，ASG，ELB等；PaaS：如AWS的云数据库服务，机器学习服务等；SaaS：如阿里云OS上面的应用，DA\n",
    "* docker命令行工具负责与Dokcer daemon守护进程进行通信，Docker daemon守护进程负责分发命令并执行Docker命令\n",
    "* docker命令集以及结构：\n",
    "    <table>\n",
    "        <tr>\n",
    "            <td><img src='../images/devops/docker命令集.png' width='400px'></td>\n",
    "            <td><img src='../images/devops/docker命令结构.png' width='350px'></td>\n",
    "        </tr>\n",
    "    </table>\n",
    "* docker集群部署示例：<img src='../images/devops/集群部署示例.png' width='350px'>"
   ]
  },
  {
   "cell_type": "markdown",
   "metadata": {},
   "source": [
    "****"
   ]
  },
  {
   "cell_type": "markdown",
   "metadata": {},
   "source": [
    "# 其他\n",
    "* 项目示列代码在`/Users/siygao/GitPro/devops/api-workshop-105`\n",
    "* docker在mac和windows上会创建一个linux虚拟机，然后所有的容器都会将这个虚拟机当做宿主机，进入该虚拟机的方法有：\n",
    "    * https://gist.github.com/BretFisher/5e1a0c7bcca4c735e716abf62afad389\n",
    "    * `screen ~/Library/Containers/com.docker.docker/Data/com.docker.driver.amd64-linux/tty`  \n",
    "    * disconnect that session but leave it open in background：`Ctrl-a d`\n",
    "    * list that session that's still running in background：`screen -ls`\n",
    "    * reconnect to that session (don't open a new one, that won't work and 2nd tty will give you garbled screen)：`screen -r`\n",
    "    * kill this session (window) and exit `Ctrl-a k`\n",
    "    * `docker run -it --privileged --pid=host debian nsenter -t 1 -m -u -n -i sh`\n",
    "* docker在mac创建的虚拟机中会创建volume映射的目录，默认路径为：`/var/lib/docker/volumn`\n",
    "* docker如果通过run的时候加`-v`参数创建共享目录，则会将mac本机映射到容器中\n",
    "* docker命令：\n",
    "    * `docker run --rm -d -p 9091:9091 --name product-service --network trainning product-service`\n",
    "    * `docker build -f Dockerfile . -t product-service`\n",
    "    * `docker images`\n",
    "    * `docker ps`\n",
    "    * `docker image rm c51`：删除镜像\n",
    "    * `docker rm 226`：删除容器\n",
    "    * `docker network ls`\n",
    "    * `docker network create trainning`\n",
    "    * `docker network connect trainning product-service`\n",
    "    * `docker exec -it order-service /bin/bash`\n",
    "    * `docker-compose up`"
   ]
  }
 ],
 "metadata": {
  "kernelspec": {
   "display_name": "Python 3",
   "language": "python",
   "name": "python3"
  },
  "language_info": {
   "codemirror_mode": {
    "name": "ipython",
    "version": 3
   },
   "file_extension": ".py",
   "mimetype": "text/x-python",
   "name": "python",
   "nbconvert_exporter": "python",
   "pygments_lexer": "ipython3",
   "version": "3.6.3"
  }
 },
 "nbformat": 4,
 "nbformat_minor": 2
}
