{
 "cells": [
  {
   "cell_type": "markdown",
   "metadata": {},
   "source": [
    "# git master branch, only one branch\n",
    "* 只使用master分支，包括部署，所有代码都在master分支上\n",
    "    * 保持代码一致，可以使用feature toggle\n",
    "    * 保持代码一致，可以拉出release分支，并打tag\n",
    "* 操作流程\n",
    "    * Run tests\n",
    "    * Check build on CI (green)\n",
    "    * Pull rebase (```git pull --rebase```)\n",
    "    * Run tests\n",
    "    * Make changes (red, green, refactor)\n",
    "    * Check build on CI (green)\n",
    "    * Pull rebase (```git pull --rebase```)\n",
    "        * If merge conflicts\n",
    "        * Resolve, run tests, pull again\n",
    "        * (edit files; ```git add -u; git rebase --continue```)\n",
    "    * Run tests (green)\n",
    "    * Push (```git push origin master```)\n",
    "    * Check build on CI"
   ]
  },
  {
   "cell_type": "markdown",
   "metadata": {},
   "source": [
    "****"
   ]
  },
  {
   "cell_type": "markdown",
   "metadata": {},
   "source": [
    "# git feature branch, multi branch\n",
    "* 多分支结构，master分支主要作为发布版本备份\n",
    "* 操作流程\n",
    "    * 本地feature分支上的操作与git master branch, only one branch一致\n",
    "    * 合并master分支，```git rebase master, git merge master```，并解决冲突\n",
    "    * 切换到master分支，merge feature分支到master分支，```git merge feature_branch```\n",
    "    * 注意点，在哪个分支上跑git merge other_branch，就是把other_branch merge到这个分支上，例如在master分支运行git merge feature_branch，就是把feature_branch merge到master分支"
   ]
  },
  {
   "cell_type": "markdown",
   "metadata": {},
   "source": [
    "****"
   ]
  },
  {
   "cell_type": "markdown",
   "metadata": {},
   "source": [
    "# fork project, create pull request\n",
    "* 开源合作，或者多团队合作同一个代码库\n",
    "* 操作流程\n",
    "    * 当本地没有原项目的时候\n",
    "        * 在github上fork原项目到自己的repo中\n",
    "        * 把repo clone到本地，并且让build在本地通过\n",
    "        * 将原项目设置为上游```git remote add upstream https://github.com/UPSTREAM-USER/ORIGINAL-PROJECT.git```\n",
    "        * <b>拉取上游原项目的代码与上游原项目保持一致 ```git fetch upstream, git merge upstream/branch```</b>\n",
    "        * 本地feature分支上的操作与git master branch, only one branch一致，完成代码提交\n",
    "        * 到自己fork项目的主页创建一个pull request，等待merge\n",
    "    * 当本地已经clone了原项目的时候：\n",
    "        * 在github上fork原项目到自己的repo中\n",
    "        * 改变本地原项目的远端url，```git remote set-url origin git_url```，并且让build在本地通过\n",
    "        * 将原项目设置为上游```git remote add upstream https://github.com/UPSTREAM-USER/ORIGINAL-PROJECT.git```\n",
    "        * <b>拉取上游原项目的代码与上游原项目保持一致 ```git fetch upstream, git merge upstream/branch```</b>\n",
    "        * 本地feature分支上的操作与git master branch, only one branch一致，完成代码提交\n",
    "        * 到自己fork项目的主页创建一个pull request，等待merge\n",
    "    * 注意事项：如果在fork的时候勾选了自动同步原项目代码，那么只要原项目中有提交，fork项目会自动更新，在与上游原项目保持一致的过程就很简单（上述加粗部分），只需要在本地运行```git pull -r```"
   ]
  }
 ],
 "metadata": {
  "kernelspec": {
   "display_name": "Python 3",
   "language": "python",
   "name": "python3"
  },
  "language_info": {
   "codemirror_mode": {
    "name": "ipython",
    "version": 3
   },
   "file_extension": ".py",
   "mimetype": "text/x-python",
   "name": "python",
   "nbconvert_exporter": "python",
   "pygments_lexer": "ipython3",
   "version": "3.6.3"
  }
 },
 "nbformat": 4,
 "nbformat_minor": 2
}
