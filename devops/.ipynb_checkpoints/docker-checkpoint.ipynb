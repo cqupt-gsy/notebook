{
 "cells": [
  {
   "cell_type": "markdown",
   "metadata": {},
   "source": [
    "# Lession 2\n",
    "* 项目示列代码在`/Users/siygao/GitPro/devops/api-workshop-105`\n",
    "* docker在mac和windows上会创建一个linux虚拟机，然后所有的容器都会将这个虚拟机当做宿主机，进入该虚拟机的方法有：\n",
    "    * https://gist.github.com/BretFisher/5e1a0c7bcca4c735e716abf62afad389\n",
    "    * `screen ~/Library/Containers/com.docker.docker/Data/com.docker.driver.amd64-linux/tty`  \n",
    "    * disconnect that session but leave it open in background：`Ctrl-a d`\n",
    "    * list that session that's still running in background：`screen -ls`\n",
    "    * reconnect to that session (don't open a new one, that won't work and 2nd tty will give you garbled screen)：`screen -r`\n",
    "    * kill this session (window) and exit `Ctrl-a k`\n",
    "    * `docker run -it --privileged --pid=host debian nsenter -t 1 -m -u -n -i sh`\n",
    "* docker在mac创建的虚拟机中会创建volume映射的目录，默认路径为：`/var/lib/docker/volumn`\n",
    "* docker如果通过run的时候加`-v`参数创建共享目录，则会将mac本机映射到容器中\n",
    "* docker命令：\n",
    "    * `docker run --rm -d -p 9091:9091 --name product-service --network trainning product-service`\n",
    "    * `docker build -f Dockerfile . -t product-service`\n",
    "    * `docker images`\n",
    "    * `docker ps`\n",
    "    * `docker image rm c51`：删除镜像\n",
    "    * `docker rm 226`：删除容器\n",
    "    * `docker network ls`\n",
    "    * `docker network create trainning`\n",
    "    * `docker network connect trainning product-service`\n",
    "    * `docker exec -it order-service /bin/bash`\n",
    "    * `docker-compose up`"
   ]
  }
 ],
 "metadata": {
  "kernelspec": {
   "display_name": "Python 3",
   "language": "python",
   "name": "python3"
  },
  "language_info": {
   "codemirror_mode": {
    "name": "ipython",
    "version": 3
   },
   "file_extension": ".py",
   "mimetype": "text/x-python",
   "name": "python",
   "nbconvert_exporter": "python",
   "pygments_lexer": "ipython3",
   "version": "3.6.3"
  }
 },
 "nbformat": 4,
 "nbformat_minor": 2
}
